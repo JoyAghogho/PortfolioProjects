{
 "cells": [
  {
   "cell_type": "code",
   "execution_count": 18,
   "id": "db057d51",
   "metadata": {},
   "outputs": [],
   "source": [
    "#import libraries\n",
    "\n",
    "from bs4 import BeautifulSoup\n",
    "import requests\n",
    "import time\n",
    "import datetime\n",
    "import pandas as pd\n",
    "import smtplib #for sending emails to self"
   ]
  },
  {
   "cell_type": "code",
   "execution_count": 19,
   "id": "c533a786",
   "metadata": {},
   "outputs": [
    {
     "name": "stdout",
     "output_type": "stream",
     "text": [
      "\n",
      "              Gildan mens Men's Fleece Hooded Sweatshirt\n",
      "             \n",
      "\n",
      "\n",
      "\n",
      "\n",
      "\n",
      "               $24.07\n",
      "              \n",
      "\n",
      "\n",
      "                $\n",
      "               \n",
      "\n",
      "                24\n",
      "                \n",
      "                 .\n",
      "                \n",
      "\n",
      "\n",
      "                07\n",
      "               \n",
      "\n",
      "\n",
      "\n",
      "\n",
      "\n",
      "\n",
      "\n",
      "\n",
      "\n",
      "\n",
      "\n",
      "\n"
     ]
    }
   ],
   "source": [
    "#Connecting to website\n",
    "\n",
    "URL = 'https://www.amazon.ca/Gildan-Fleece-Hooded-Sweatshirt-X-Large/dp/B01M0240D7/ref=sr_1_8?crid=16UO8S88RW04U&keywords=grey%2Bsweatshirt&qid=1672975527&sprefix=grey%2Bsweatshirt%2Caps%2C147&sr=8-8&th=1&psc=1'\n",
    "\n",
    "headers = {\"User-Agent\": \"Mozilla/5.0 (Windows NT 10.0; Win64; x64) AppleWebKit/537.36 (KHTML, like Gecko) Chrome/108.0.0.0 Safari/537.36\",\"Accept-Encoding\": \"gzip, deflate\", \"Accept\": \"text/html,application/xhtml+xml,application/xml;q=0.9,*/*;q=0.8\",\"DNT\":\"1\",\"Connection\":\"close\",\"Upgrade-Insecure-Requests\":\"1\"}\n",
    "    #majority of headers gotten from 'http://httpbin.org/get'\n",
    "    \n",
    "page = requests.get(URL, headers=headers)\n",
    "\n",
    "soup1 = BeautifulSoup(page.content, \"html.parser\") #pull data from webpage\n",
    "\n",
    "soup2 = BeautifulSoup(soup1.prettify(),'html.parser') #formats html result\n",
    "\n",
    "title = soup2.find(id='productTitle').get_text() #ID gotten from html code for name of shirt on website\n",
    "\n",
    "price = soup2.find(id='corePriceDisplay_desktop_feature_div').get_text()\n",
    "\n",
    "print(title)\n",
    "print(price)\n",
    "\n",
    "\n",
    "\n"
   ]
  },
  {
   "cell_type": "code",
   "execution_count": 20,
   "id": "c52166fa",
   "metadata": {},
   "outputs": [
    {
     "name": "stdout",
     "output_type": "stream",
     "text": [
      "Gildan mens Men's Fleece Hooded Sweatshirt\n",
      "24.07\n"
     ]
    }
   ],
   "source": [
    "#Cleaning the price and title\n",
    "price = price.strip()[1:6]\n",
    "title = title.strip()\n",
    "\n",
    "print(title)\n",
    "print(price)\n"
   ]
  },
  {
   "cell_type": "code",
   "execution_count": 21,
   "id": "4ad62b11",
   "metadata": {},
   "outputs": [
    {
     "name": "stdout",
     "output_type": "stream",
     "text": [
      "2023-01-07\n"
     ]
    }
   ],
   "source": [
    "import datetime\n",
    "\n",
    "today = datetime.date.today()\n",
    "\n",
    "print(today)"
   ]
  },
  {
   "cell_type": "code",
   "execution_count": 22,
   "id": "5e14f8dc",
   "metadata": {},
   "outputs": [
    {
     "data": {
      "text/plain": [
       "list"
      ]
     },
     "execution_count": 22,
     "metadata": {},
     "output_type": "execute_result"
    }
   ],
   "source": [
    "import csv\n",
    "\n",
    "header = ['Title', 'Price', 'Date']\n",
    "data = [title, price, today] #convert data to list\n",
    "\n",
    "type(data)"
   ]
  },
  {
   "cell_type": "code",
   "execution_count": 23,
   "id": "c07f1ba2",
   "metadata": {},
   "outputs": [],
   "source": [
    "#Create csv and append data\n",
    "\n",
    "#with open ('AmazonWebScrapperDataset.csv','w',newline='',encoding = 'utf8') as f:\n",
    "           #writer = csv.writer(f) #create\n",
    "           #writer.writerow(header) #add header\n",
    "           #writer.writerow(data) #add first datarow\n",
    "           "
   ]
  },
  {
   "cell_type": "code",
   "execution_count": 29,
   "id": "17bdce7f",
   "metadata": {},
   "outputs": [
    {
     "name": "stdout",
     "output_type": "stream",
     "text": [
      "                                        Title  Price        Date\n",
      "0  Gildan mens Men's Fleece Hooded Sweatshirt  24.07  2023-01-07\n",
      "1  Gildan mens Men's Fleece Hooded Sweatshirt  24.07  2023-01-07\n"
     ]
    }
   ],
   "source": [
    "df = pd.read_csv(r'C:\\Users\\agogs\\OneDrive\\Documents\\Data Analysis - Files\\Portfolio Projects\\AmazonWebScrapperDataset.csv')\n",
    "\n",
    "print(df)"
   ]
  },
  {
   "cell_type": "code",
   "execution_count": 28,
   "id": "b3368b11",
   "metadata": {},
   "outputs": [],
   "source": [
    "#Appending data to the csv\n",
    "\n",
    "with open ('AmazonWebScrapperDataset.csv','a+',newline='',encoding = 'utf8') as f:\n",
    "           writer = csv.writer(f) #create\n",
    "           writer.writerow(data) #append data"
   ]
  },
  {
   "cell_type": "code",
   "execution_count": 30,
   "id": "5c0bbbbc",
   "metadata": {},
   "outputs": [],
   "source": [
    "#Automating data extraction using function\n",
    "\n",
    "def check_price():\n",
    "    URL = 'https://www.amazon.ca/Gildan-Fleece-Hooded-Sweatshirt-X-Large/dp/B01M0240D7/ref=sr_1_8?crid=16UO8S88RW04U&keywords=grey%2Bsweatshirt&qid=1672975527&sprefix=grey%2Bsweatshirt%2Caps%2C147&sr=8-8&th=1&psc=1'\n",
    "\n",
    "    headers = {\"User-Agent\": \"Mozilla/5.0 (Windows NT 10.0; Win64; x64) AppleWebKit/537.36 (KHTML, like Gecko) Chrome/108.0.0.0 Safari/537.36\",\"Accept-Encoding\": \"gzip, deflate\", \"Accept\": \"text/html,application/xhtml+xml,application/xml;q=0.9,*/*;q=0.8\",\"DNT\":\"1\",\"Connection\":\"close\",\"Upgrade-Insecure-Requests\":\"1\"}\n",
    "    #majority of headers gotten from 'http://httpbin.org/get'\n",
    "    \n",
    "    page = requests.get(URL, headers=headers)\n",
    "\n",
    "    soup1 = BeautifulSoup(page.content, \"html.parser\") #pull data from webpage\n",
    "\n",
    "    soup2 = BeautifulSoup(soup1.prettify(),'html.parser') #formats html result\n",
    "\n",
    "    title = soup2.find(id='productTitle').get_text() #ID gotten from html code for name of shirt on website\n",
    "\n",
    "    price = soup2.find(id='corePriceDisplay_desktop_feature_div').get_text()\n",
    "    \n",
    "    price = price.strip()[1:6]\n",
    "    title = title.strip()\n",
    "    \n",
    "    import datetime\n",
    "    \n",
    "    today = datetime.date.today()\n",
    "    \n",
    "    import csv\n",
    "\n",
    "    header = ['Title', 'Price', 'Date']\n",
    "    data = [title, price, today]    \n",
    "\n",
    "    with open ('AmazonWebScrapperDataset.csv','a+',newline='',encoding = 'utf8') as f:\n",
    "           writer = csv.writer(f)\n",
    "           writer.writerow(data)\n"
   ]
  },
  {
   "cell_type": "code",
   "execution_count": null,
   "id": "e416e8df",
   "metadata": {},
   "outputs": [],
   "source": [
    "#Creating timer\n",
    "\n",
    "while(True):\n",
    "    check_price()\n",
    "    time.sleep(86400) #function runs every day (60sx60minsx24hrs)"
   ]
  },
  {
   "cell_type": "code",
   "execution_count": 32,
   "id": "e5c7f36a",
   "metadata": {},
   "outputs": [
    {
     "name": "stdout",
     "output_type": "stream",
     "text": [
      "                                        Title  Price        Date\n",
      "0  Gildan mens Men's Fleece Hooded Sweatshirt  24.07  2023-01-07\n",
      "1  Gildan mens Men's Fleece Hooded Sweatshirt  24.07  2023-01-07\n",
      "2  Gildan mens Men's Fleece Hooded Sweatshirt  24.07  2023-01-07\n",
      "3  Gildan mens Men's Fleece Hooded Sweatshirt  24.07  2023-01-07\n",
      "4  Gildan mens Men's Fleece Hooded Sweatshirt  24.07  2023-01-07\n"
     ]
    }
   ],
   "source": [
    "df = pd.read_csv(r'C:\\Users\\agogs\\OneDrive\\Documents\\Data Analysis - Files\\Portfolio Projects\\AmazonWebScrapperDataset.csv')\n",
    "\n",
    "print(df)"
   ]
  },
  {
   "cell_type": "code",
   "execution_count": null,
   "id": "91844fda",
   "metadata": {},
   "outputs": [],
   "source": []
  }
 ],
 "metadata": {
  "kernelspec": {
   "display_name": "Python 3 (ipykernel)",
   "language": "python",
   "name": "python3"
  },
  "language_info": {
   "codemirror_mode": {
    "name": "ipython",
    "version": 3
   },
   "file_extension": ".py",
   "mimetype": "text/x-python",
   "name": "python",
   "nbconvert_exporter": "python",
   "pygments_lexer": "ipython3",
   "version": "3.9.12"
  }
 },
 "nbformat": 4,
 "nbformat_minor": 5
}
